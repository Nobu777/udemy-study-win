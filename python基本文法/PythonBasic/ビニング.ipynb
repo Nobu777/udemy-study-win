{
 "cells": [
  {
   "cell_type": "code",
   "execution_count": 1,
   "metadata": {},
   "outputs": [],
   "source": [
    "import pandas as pd\n",
    "import numpy as np\n",
    "%matplotlib inline"
   ]
  },
  {
   "cell_type": "code",
   "execution_count": 2,
   "metadata": {},
   "outputs": [],
   "source": [
    "df_x = pd.read_csv(\"./data/brownian-x.csv\", delimiter=\",\", index_col=0)\n",
    "df_y = pd.read_csv(\"./data/brownian-y.csv\", delimiter=\",\", index_col=0)"
   ]
  },
  {
   "cell_type": "code",
   "execution_count": 3,
   "metadata": {},
   "outputs": [],
   "source": [
    "df_d = (df_x ** 2 + df_y ** 2) ** 0.5"
   ]
  },
  {
   "cell_type": "code",
   "execution_count": 4,
   "metadata": {},
   "outputs": [
    {
     "data": {
      "text/html": [
       "<div>\n",
       "<style scoped>\n",
       "    .dataframe tbody tr th:only-of-type {\n",
       "        vertical-align: middle;\n",
       "    }\n",
       "\n",
       "    .dataframe tbody tr th {\n",
       "        vertical-align: top;\n",
       "    }\n",
       "\n",
       "    .dataframe thead th {\n",
       "        text-align: right;\n",
       "    }\n",
       "</style>\n",
       "<table border=\"1\" class=\"dataframe\">\n",
       "  <thead>\n",
       "    <tr style=\"text-align: right;\">\n",
       "      <th></th>\n",
       "      <th>0</th>\n",
       "      <th>1</th>\n",
       "      <th>2</th>\n",
       "      <th>3</th>\n",
       "      <th>4</th>\n",
       "      <th>5</th>\n",
       "      <th>6</th>\n",
       "      <th>7</th>\n",
       "      <th>8</th>\n",
       "      <th>9</th>\n",
       "      <th>...</th>\n",
       "      <th>90</th>\n",
       "      <th>91</th>\n",
       "      <th>92</th>\n",
       "      <th>93</th>\n",
       "      <th>94</th>\n",
       "      <th>95</th>\n",
       "      <th>96</th>\n",
       "      <th>97</th>\n",
       "      <th>98</th>\n",
       "      <th>99</th>\n",
       "    </tr>\n",
       "  </thead>\n",
       "  <tbody>\n",
       "    <tr>\n",
       "      <th>0</th>\n",
       "      <td>0.000000</td>\n",
       "      <td>0.000000</td>\n",
       "      <td>0.000000</td>\n",
       "      <td>0.000000</td>\n",
       "      <td>0.000000</td>\n",
       "      <td>0.000000</td>\n",
       "      <td>0.000000</td>\n",
       "      <td>0.000000</td>\n",
       "      <td>0.000000</td>\n",
       "      <td>0.000000</td>\n",
       "      <td>...</td>\n",
       "      <td>0.000000</td>\n",
       "      <td>0.000000</td>\n",
       "      <td>0.000000</td>\n",
       "      <td>0.000000</td>\n",
       "      <td>0.000000</td>\n",
       "      <td>0.000000</td>\n",
       "      <td>0.000000</td>\n",
       "      <td>0.000000</td>\n",
       "      <td>0.000000</td>\n",
       "      <td>0.000000</td>\n",
       "    </tr>\n",
       "    <tr>\n",
       "      <th>1</th>\n",
       "      <td>2.664995</td>\n",
       "      <td>1.624617</td>\n",
       "      <td>1.466082</td>\n",
       "      <td>0.624082</td>\n",
       "      <td>0.483413</td>\n",
       "      <td>1.773034</td>\n",
       "      <td>1.175548</td>\n",
       "      <td>0.760058</td>\n",
       "      <td>0.562806</td>\n",
       "      <td>0.692387</td>\n",
       "      <td>...</td>\n",
       "      <td>0.793446</td>\n",
       "      <td>1.057208</td>\n",
       "      <td>1.439226</td>\n",
       "      <td>2.016019</td>\n",
       "      <td>1.023372</td>\n",
       "      <td>1.640556</td>\n",
       "      <td>0.072268</td>\n",
       "      <td>1.697960</td>\n",
       "      <td>0.790099</td>\n",
       "      <td>1.198749</td>\n",
       "    </tr>\n",
       "    <tr>\n",
       "      <th>2</th>\n",
       "      <td>3.700546</td>\n",
       "      <td>1.001601</td>\n",
       "      <td>1.754423</td>\n",
       "      <td>0.515130</td>\n",
       "      <td>1.198450</td>\n",
       "      <td>1.987591</td>\n",
       "      <td>2.914376</td>\n",
       "      <td>0.579064</td>\n",
       "      <td>0.592685</td>\n",
       "      <td>0.741599</td>\n",
       "      <td>...</td>\n",
       "      <td>2.088907</td>\n",
       "      <td>1.544799</td>\n",
       "      <td>0.882463</td>\n",
       "      <td>1.756776</td>\n",
       "      <td>2.243826</td>\n",
       "      <td>0.423914</td>\n",
       "      <td>0.087729</td>\n",
       "      <td>1.082146</td>\n",
       "      <td>3.060686</td>\n",
       "      <td>1.619214</td>\n",
       "    </tr>\n",
       "    <tr>\n",
       "      <th>3</th>\n",
       "      <td>3.226546</td>\n",
       "      <td>0.973589</td>\n",
       "      <td>0.735858</td>\n",
       "      <td>2.686408</td>\n",
       "      <td>1.793379</td>\n",
       "      <td>3.147250</td>\n",
       "      <td>3.161038</td>\n",
       "      <td>0.257812</td>\n",
       "      <td>1.262306</td>\n",
       "      <td>0.263671</td>\n",
       "      <td>...</td>\n",
       "      <td>3.267045</td>\n",
       "      <td>2.652834</td>\n",
       "      <td>1.568189</td>\n",
       "      <td>2.508463</td>\n",
       "      <td>3.185294</td>\n",
       "      <td>1.720739</td>\n",
       "      <td>0.121859</td>\n",
       "      <td>1.346496</td>\n",
       "      <td>4.660226</td>\n",
       "      <td>1.992747</td>\n",
       "    </tr>\n",
       "    <tr>\n",
       "      <th>4</th>\n",
       "      <td>3.945059</td>\n",
       "      <td>1.000413</td>\n",
       "      <td>0.995894</td>\n",
       "      <td>3.244554</td>\n",
       "      <td>2.651634</td>\n",
       "      <td>3.252241</td>\n",
       "      <td>1.324971</td>\n",
       "      <td>1.254305</td>\n",
       "      <td>2.442793</td>\n",
       "      <td>1.515280</td>\n",
       "      <td>...</td>\n",
       "      <td>3.441103</td>\n",
       "      <td>4.081809</td>\n",
       "      <td>1.392043</td>\n",
       "      <td>3.003263</td>\n",
       "      <td>3.986591</td>\n",
       "      <td>1.250519</td>\n",
       "      <td>1.699879</td>\n",
       "      <td>1.390309</td>\n",
       "      <td>6.513352</td>\n",
       "      <td>3.704041</td>\n",
       "    </tr>\n",
       "  </tbody>\n",
       "</table>\n",
       "<p>5 rows × 100 columns</p>\n",
       "</div>"
      ],
      "text/plain": [
       "          0         1         2         3         4         5         6  \\\n",
       "0  0.000000  0.000000  0.000000  0.000000  0.000000  0.000000  0.000000   \n",
       "1  2.664995  1.624617  1.466082  0.624082  0.483413  1.773034  1.175548   \n",
       "2  3.700546  1.001601  1.754423  0.515130  1.198450  1.987591  2.914376   \n",
       "3  3.226546  0.973589  0.735858  2.686408  1.793379  3.147250  3.161038   \n",
       "4  3.945059  1.000413  0.995894  3.244554  2.651634  3.252241  1.324971   \n",
       "\n",
       "          7         8         9  ...        90        91        92        93  \\\n",
       "0  0.000000  0.000000  0.000000  ...  0.000000  0.000000  0.000000  0.000000   \n",
       "1  0.760058  0.562806  0.692387  ...  0.793446  1.057208  1.439226  2.016019   \n",
       "2  0.579064  0.592685  0.741599  ...  2.088907  1.544799  0.882463  1.756776   \n",
       "3  0.257812  1.262306  0.263671  ...  3.267045  2.652834  1.568189  2.508463   \n",
       "4  1.254305  2.442793  1.515280  ...  3.441103  4.081809  1.392043  3.003263   \n",
       "\n",
       "         94        95        96        97        98        99  \n",
       "0  0.000000  0.000000  0.000000  0.000000  0.000000  0.000000  \n",
       "1  1.023372  1.640556  0.072268  1.697960  0.790099  1.198749  \n",
       "2  2.243826  0.423914  0.087729  1.082146  3.060686  1.619214  \n",
       "3  3.185294  1.720739  0.121859  1.346496  4.660226  1.992747  \n",
       "4  3.986591  1.250519  1.699879  1.390309  6.513352  3.704041  \n",
       "\n",
       "[5 rows x 100 columns]"
      ]
     },
     "execution_count": 4,
     "metadata": {},
     "output_type": "execute_result"
    }
   ],
   "source": [
    "df_d.head()"
   ]
  },
  {
   "cell_type": "code",
   "execution_count": 5,
   "metadata": {},
   "outputs": [
    {
     "data": {
      "text/plain": [
       "<matplotlib.axes._subplots.AxesSubplot at 0x23ff4d61358>"
      ]
     },
     "execution_count": 5,
     "metadata": {},
     "output_type": "execute_result"
    },
    {
     "data": {
      "image/png": "[encoded data removed]",
      "text/plain": [
       "<Figure size 432x288 with 1 Axes>"
      ]
     },
     "metadata": {
      "needs_background": "light"
     },
     "output_type": "display_data"
    }
   ],
   "source": [
    "df_d.iloc[-1].hist(bins=25)"
   ]
  },
  {
   "cell_type": "code",
   "execution_count": 6,
   "metadata": {},
   "outputs": [],
   "source": [
    "bins = np.arange(0,90,10)"
   ]
  },
  {
   "cell_type": "code",
   "execution_count": 7,
   "metadata": {},
   "outputs": [
    {
     "data": {
      "text/plain": [
       "array([ 0, 10, 20, 30, 40, 50, 60, 70, 80])"
      ]
     },
     "execution_count": 7,
     "metadata": {},
     "output_type": "execute_result"
    }
   ],
   "source": [
    "bins"
   ]
  },
  {
   "cell_type": "code",
   "execution_count": 8,
   "metadata": {},
   "outputs": [],
   "source": [
    "data = pd.cut(df_d.iloc[-1], bins)"
   ]
  },
  {
   "cell_type": "code",
   "execution_count": 9,
   "metadata": {},
   "outputs": [
    {
     "data": {
      "text/plain": [
       "0     (10, 20]\n",
       "1     (10, 20]\n",
       "2     (40, 50]\n",
       "3     (50, 60]\n",
       "4     (10, 20]\n",
       "5     (30, 40]\n",
       "6     (30, 40]\n",
       "7     (30, 40]\n",
       "8     (20, 30]\n",
       "9     (30, 40]\n",
       "10    (20, 30]\n",
       "11    (30, 40]\n",
       "12    (10, 20]\n",
       "13    (30, 40]\n",
       "14    (20, 30]\n",
       "15    (40, 50]\n",
       "16    (20, 30]\n",
       "17    (30, 40]\n",
       "18    (10, 20]\n",
       "19    (60, 70]\n",
       "20    (50, 60]\n",
       "21     (0, 10]\n",
       "22    (50, 60]\n",
       "23     (0, 10]\n",
       "24     (0, 10]\n",
       "25    (20, 30]\n",
       "26    (20, 30]\n",
       "27    (10, 20]\n",
       "28    (60, 70]\n",
       "29    (10, 20]\n",
       "        ...   \n",
       "70    (10, 20]\n",
       "71    (10, 20]\n",
       "72    (10, 20]\n",
       "73    (30, 40]\n",
       "74     (0, 10]\n",
       "75    (20, 30]\n",
       "76    (60, 70]\n",
       "77    (40, 50]\n",
       "78    (10, 20]\n",
       "79    (20, 30]\n",
       "80    (20, 30]\n",
       "81     (0, 10]\n",
       "82    (10, 20]\n",
       "83    (40, 50]\n",
       "84    (30, 40]\n",
       "85    (20, 30]\n",
       "86    (50, 60]\n",
       "87    (40, 50]\n",
       "88    (40, 50]\n",
       "89    (20, 30]\n",
       "90    (10, 20]\n",
       "91    (20, 30]\n",
       "92    (30, 40]\n",
       "93    (20, 30]\n",
       "94    (20, 30]\n",
       "95    (20, 30]\n",
       "96    (20, 30]\n",
       "97    (20, 30]\n",
       "98    (40, 50]\n",
       "99    (20, 30]\n",
       "Name: 500, Length: 100, dtype: category\n",
       "Categories (8, interval[int64]): [(0, 10] < (10, 20] < (20, 30] < (30, 40] < (40, 50] < (50, 60] < (60, 70] < (70, 80]]"
      ]
     },
     "execution_count": 9,
     "metadata": {},
     "output_type": "execute_result"
    }
   ],
   "source": [
    "data"
   ]
  },
  {
   "cell_type": "code",
   "execution_count": 10,
   "metadata": {},
   "outputs": [
    {
     "data": {
      "text/plain": [
       "(20, 30]    29\n",
       "(10, 20]    23\n",
       "(30, 40]    16\n",
       "(40, 50]    13\n",
       "(0, 10]     10\n",
       "(50, 60]     5\n",
       "(60, 70]     4\n",
       "(70, 80]     0\n",
       "Name: 500, dtype: int64"
      ]
     },
     "execution_count": 10,
     "metadata": {},
     "output_type": "execute_result"
    }
   ],
   "source": [
    "pd.value_counts(data)"
   ]
  },
  {
   "cell_type": "code",
   "execution_count": 11,
   "metadata": {},
   "outputs": [
    {
     "data": {
      "text/plain": [
       "(0, 10]     10\n",
       "(10, 20]    23\n",
       "(20, 30]    29\n",
       "(30, 40]    16\n",
       "(40, 50]    13\n",
       "(50, 60]     5\n",
       "(60, 70]     4\n",
       "(70, 80]     0\n",
       "Name: 500, dtype: int64"
      ]
     },
     "execution_count": 11,
     "metadata": {},
     "output_type": "execute_result"
    }
   ],
   "source": [
    "pd.value_counts(data, sort=False)"
   ]
  },
  {
   "cell_type": "code",
   "execution_count": null,
   "metadata": {},
   "outputs": [],
   "source": []
  }
 ],
 "metadata": {
  "kernelspec": {
   "display_name": "Python 3",
   "language": "python",
   "name": "python3"
  },
  "language_info": {
   "codemirror_mode": {
    "name": "ipython",
    "version": 3
   },
   "file_extension": ".py",
   "mimetype": "text/x-python",
   "name": "python",
   "nbconvert_exporter": "python",
   "pygments_lexer": "ipython3",
   "version": "3.7.3"
  }
 },
 "nbformat": 4,
 "nbformat_minor": 2
}
