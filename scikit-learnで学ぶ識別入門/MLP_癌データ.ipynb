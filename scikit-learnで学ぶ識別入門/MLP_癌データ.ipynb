{
 "cells": [
  {
   "cell_type": "code",
   "execution_count": 1,
   "metadata": {},
   "outputs": [
    {
     "data": {
      "text/plain": [
       "<Figure size 432x288 with 0 Axes>"
      ]
     },
     "metadata": {},
     "output_type": "display_data"
    }
   ],
   "source": [
    "import numpy as np\n",
    "\n",
    "import matplotlib.pyplot as plt\n",
    "%matplotlib inline\n",
    "plt.set_cmap(plt.cm.Paired) # 色設定"
   ]
  },
  {
   "cell_type": "code",
   "execution_count": 2,
   "metadata": {},
   "outputs": [],
   "source": [
    "def plotBoundary(X, clf, mesh=True, boundary=True, type='predict'):\n",
    "\n",
    "    # plot range\n",
    "    x_min = min(X[:,0])\n",
    "    x_max = max(X[:,0])\n",
    "    y_min = min(X[:,1])\n",
    "    y_max = max(X[:,1])\n",
    "\n",
    "    # visualizing decision function\n",
    "    XX, YY = np.mgrid[x_min:x_max:200j, y_min:y_max:200j] # make a grid\n",
    "    \n",
    "    if type == 'predict':\n",
    "        Z = clf.predict(np.c_[XX.ravel(), YY.ravel()])\n",
    "    elif type == 'probability':\n",
    "        Z = np.exp(clf.predict_log_proba(np.c_[XX.ravel(), YY.ravel()]))[:, 1]\n",
    "    else:\n",
    "        Z = clf.decision_function(np.c_[XX.ravel(), YY.ravel()])\n",
    "    \n",
    "    Z = Z.reshape(XX.shape) # just reshape\n",
    "\n",
    "    if mesh:\n",
    "        if type == 'predict':\n",
    "            plt.pcolormesh(XX, YY, Z, zorder=-10) # paint in 2 colors, if Z > 0 or not\n",
    "        else:\n",
    "            plt.pcolormesh(XX, YY, Z, zorder=-10, cmap=plt.cm.bwr)\n",
    "            plt.colorbar()\n",
    "\n",
    "    if boundary:\n",
    "        level = [0.5]\n",
    "        if type == \"probability\":\n",
    "            level = [0.5]\n",
    "        plt.contour(XX, YY, Z, \n",
    "                    colors='k', linestyles='-', levels=level)\n",
    "\n",
    "    plt.xlim(x_min, x_max)\n",
    "    plt.ylim(y_min, y_max)"
   ]
  },
  {
   "cell_type": "code",
   "execution_count": 3,
   "metadata": {},
   "outputs": [],
   "source": [
    "from sklearn.neural_network import MLPClassifier\n",
    "from sklearn.datasets import make_blobs"
   ]
  },
  {
   "cell_type": "code",
   "execution_count": 4,
   "metadata": {},
   "outputs": [],
   "source": [
    "from sklearn.datasets import load_breast_cancer\n",
    "data = load_breast_cancer()\n",
    "X = data.data\n",
    "y = data.target"
   ]
  },
  {
   "cell_type": "code",
   "execution_count": 5,
   "metadata": {},
   "outputs": [],
   "source": [
    "from sklearn.model_selection import ShuffleSplit\n",
    "ss = ShuffleSplit(n_splits=1, \n",
    "                  train_size=0.8, \n",
    "                  test_size=0.2, \n",
    "                  random_state=0)\n",
    "\n",
    "train_index, test_index = next(ss.split(X, y))\n",
    "\n",
    "X_train, X_test = X[train_index], X[test_index]\n",
    "y_train, y_test = y[train_index], y[test_index]"
   ]
  },
  {
   "cell_type": "code",
   "execution_count": 7,
   "metadata": {},
   "outputs": [],
   "source": [
    "clf = MLPClassifier()"
   ]
  },
  {
   "cell_type": "code",
   "execution_count": 8,
   "metadata": {},
   "outputs": [
    {
     "data": {
      "text/plain": [
       "0.9210526315789473"
      ]
     },
     "execution_count": 8,
     "metadata": {},
     "output_type": "execute_result"
    }
   ],
   "source": [
    "clf.fit(X_train, y_train)\n",
    "clf.score(X_test, y_test)"
   ]
  },
  {
   "cell_type": "code",
   "execution_count": 9,
   "metadata": {},
   "outputs": [
    {
     "data": {
      "text/plain": [
       "MLPClassifier(activation='relu', alpha=0.0001, batch_size='auto', beta_1=0.9,\n",
       "              beta_2=0.999, early_stopping=False, epsilon=1e-08,\n",
       "              hidden_layer_sizes=(100,), learning_rate='constant',\n",
       "              learning_rate_init=0.001, max_iter=200, momentum=0.9,\n",
       "              n_iter_no_change=10, nesterovs_momentum=True, power_t=0.5,\n",
       "              random_state=None, shuffle=True, solver='adam', tol=0.0001,\n",
       "              validation_fraction=0.1, verbose=False, warm_start=False)"
      ]
     },
     "execution_count": 9,
     "metadata": {},
     "output_type": "execute_result"
    }
   ],
   "source": [
    "clf"
   ]
  },
  {
   "cell_type": "code",
   "execution_count": 10,
   "metadata": {},
   "outputs": [],
   "source": [
    "import warnings\n",
    "from sklearn.exceptions import ConvergenceWarning\n",
    "warnings.simplefilter('ignore', ConvergenceWarning)"
   ]
  },
  {
   "cell_type": "code",
   "execution_count": 11,
   "metadata": {},
   "outputs": [
    {
     "name": "stdout",
     "output_type": "stream",
     "text": [
      "1 hidden layers 0.9385964912280702\n",
      "2 hidden layers 0.9649122807017544\n",
      "3 hidden layers 0.9473684210526315\n",
      "4 hidden layers 0.9385964912280702\n",
      "5 hidden layers 0.9385964912280702\n",
      "6 hidden layers 0.9473684210526315\n"
     ]
    }
   ],
   "source": [
    "for layers in [(100,),\n",
    "               (100,10),\n",
    "               (100,100,10),\n",
    "               (100,100,100,10),\n",
    "               (100,100,100,100,10),\n",
    "               (100,100,100,100,100,10)]:\n",
    "    \n",
    "    clf.hidden_layer_sizes = layers\n",
    "    clf.fit(X_train, y_train)\n",
    "    print(\"{0} hidden layers\".format(len(layers)), clf.score(X_test, y_test))"
   ]
  },
  {
   "cell_type": "code",
   "execution_count": 12,
   "metadata": {},
   "outputs": [],
   "source": [
    "from sklearn.preprocessing import MinMaxScaler\n",
    "scaler = MinMaxScaler()\n",
    "scaler.fit(X_train)\n",
    "X_train_scale = scaler.transform(X_train)\n",
    "X_test_scale  = scaler.transform(X_test)"
   ]
  },
  {
   "cell_type": "code",
   "execution_count": 13,
   "metadata": {},
   "outputs": [],
   "source": [
    "clf = MLPClassifier()"
   ]
  },
  {
   "cell_type": "code",
   "execution_count": 14,
   "metadata": {},
   "outputs": [
    {
     "data": {
      "text/plain": [
       "0.9649122807017544"
      ]
     },
     "execution_count": 14,
     "metadata": {},
     "output_type": "execute_result"
    }
   ],
   "source": [
    "clf.fit(X_train_scale, y_train)\n",
    "clf.score(X_test_scale, y_test)"
   ]
  },
  {
   "cell_type": "code",
   "execution_count": 15,
   "metadata": {},
   "outputs": [
    {
     "data": {
      "text/plain": [
       "0.9649122807017544"
      ]
     },
     "execution_count": 15,
     "metadata": {},
     "output_type": "execute_result"
    }
   ],
   "source": [
    "clf.alpha = 1\n",
    "clf.fit(X_train_scale, y_train)\n",
    "clf.score(X_test_scale, y_test)"
   ]
  },
  {
   "cell_type": "code",
   "execution_count": 16,
   "metadata": {},
   "outputs": [
    {
     "name": "stdout",
     "output_type": "stream",
     "text": [
      "1 hidden layers 0.956140350877193\n",
      "2 hidden layers 0.9649122807017544\n",
      "3 hidden layers 0.9649122807017544\n",
      "4 hidden layers 0.9649122807017544\n",
      "5 hidden layers 0.9649122807017544\n",
      "6 hidden layers 0.9649122807017544\n"
     ]
    }
   ],
   "source": [
    "for layers in [(100,),\n",
    "               (100,10),\n",
    "               (100,100,10),\n",
    "               (100,100,100,10),\n",
    "               (100,100,100,100,10),\n",
    "               (100,100,100,100,100,10)]:\n",
    "    clf.hidden_layer_sizes = layers\n",
    "    clf.fit(X_train_scale, y_train)\n",
    "    print(\"{0} hidden layers\".format(len(layers)), clf.score(X_test_scale, y_test))"
   ]
  },
  {
   "cell_type": "code",
   "execution_count": 17,
   "metadata": {},
   "outputs": [
    {
     "name": "stdout",
     "output_type": "stream",
     "text": [
      "1 hidden layer with 1 nodes 0.5877192982456141\n",
      "1 hidden layer with 2 nodes 0.7894736842105263\n",
      "1 hidden layer with 3 nodes 0.8771929824561403\n",
      "1 hidden layer with 4 nodes 0.5877192982456141\n",
      "1 hidden layer with 5 nodes 0.8947368421052632\n",
      "1 hidden layer with 6 nodes 0.9210526315789473\n",
      "1 hidden layer with 7 nodes 0.9298245614035088\n",
      "1 hidden layer with 8 nodes 0.9298245614035088\n",
      "1 hidden layer with 9 nodes 0.9298245614035088\n",
      "1 hidden layer with 10 nodes 0.9298245614035088\n",
      "1 hidden layer with 11 nodes 0.9298245614035088\n",
      "1 hidden layer with 12 nodes 0.9298245614035088\n",
      "1 hidden layer with 13 nodes 0.9385964912280702\n",
      "1 hidden layer with 14 nodes 0.9298245614035088\n",
      "1 hidden layer with 15 nodes 0.9649122807017544\n",
      "1 hidden layer with 16 nodes 0.9385964912280702\n",
      "1 hidden layer with 17 nodes 0.9473684210526315\n",
      "1 hidden layer with 18 nodes 0.9385964912280702\n",
      "1 hidden layer with 19 nodes 0.9473684210526315\n"
     ]
    },
    {
     "data": {
      "text/plain": [
       "[<matplotlib.lines.Line2D at 0x1a6a8b60160>]"
      ]
     },
     "execution_count": 17,
     "metadata": {},
     "output_type": "execute_result"
    },
    {
     "data": {
      "image/png": "[encoded data removed]",
      "text/plain": [
       "<Figure size 432x288 with 1 Axes>"
      ]
     },
     "metadata": {
      "needs_background": "light"
     },
     "output_type": "display_data"
    }
   ],
   "source": [
    "scores = []\n",
    "for nodes in range(1, 20):\n",
    "    \n",
    "    clf.hidden_layer_sizes = (nodes,)\n",
    "    \n",
    "    clf.fit(X_train_scale, y_train)\n",
    "    score = clf.score(X_test_scale, y_test)\n",
    "    print(\"1 hidden layer with {0} nodes\".format(nodes), score)\n",
    "    scores.append(score)\n",
    "    \n",
    "scores = np.array(scores)\n",
    "plt.plot(scores)"
   ]
  },
  {
   "cell_type": "code",
   "execution_count": null,
   "metadata": {},
   "outputs": [],
   "source": []
  }
 ],
 "metadata": {
  "kernelspec": {
   "display_name": "Python 3",
   "language": "python",
   "name": "python3"
  },
  "language_info": {
   "codemirror_mode": {
    "name": "ipython",
    "version": 3
   },
   "file_extension": ".py",
   "mimetype": "text/x-python",
   "name": "python",
   "nbconvert_exporter": "python",
   "pygments_lexer": "ipython3",
   "version": "3.7.3"
  }
 },
 "nbformat": 4,
 "nbformat_minor": 2
}
