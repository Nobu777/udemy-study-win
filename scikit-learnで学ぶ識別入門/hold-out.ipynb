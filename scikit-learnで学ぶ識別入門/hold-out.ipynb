{
 "cells": [
  {
   "cell_type": "code",
   "execution_count": 3,
   "metadata": {},
   "outputs": [],
   "source": [
    "import numpy as np\n",
    "\n",
    "from sklearn.datasets import load_breast_cancer\n",
    "data = load_breast_cancer()\n",
    "\n",
    "X = data.data\n",
    "y = data.target\n",
    "\n",
    "from sklearn import linear_model\n",
    "clf = linear_model.LogisticRegression(solver='liblinear')\n",
    "\n",
    "from sklearn.model_selection import ShuffleSplit\n",
    "ss = ShuffleSplit(n_splits=1,\n",
    "                 train_size=0.5,\n",
    "                 test_size=0.5)\n",
    "\n",
    "train_index, test_index = next(ss.split(X,y))\n",
    "\n",
    "X_train, X_test = X[train_index], X[test_index]\n",
    "y_train, y_test = y[train_index], y[test_index]"
   ]
  },
  {
   "cell_type": "code",
   "execution_count": 4,
   "metadata": {},
   "outputs": [],
   "source": [
    "clf.fit(X_train, y_train);"
   ]
  },
  {
   "cell_type": "code",
   "execution_count": 5,
   "metadata": {},
   "outputs": [
    {
     "data": {
      "text/plain": [
       "0.9543859649122807"
      ]
     },
     "execution_count": 5,
     "metadata": {},
     "output_type": "execute_result"
    }
   ],
   "source": [
    "clf.score(X_test, y_test)"
   ]
  },
  {
   "cell_type": "code",
   "execution_count": 6,
   "metadata": {},
   "outputs": [
    {
     "name": "stdout",
     "output_type": "stream",
     "text": [
      "0.9473684210526315\n",
      "0.9473684210526315\n",
      "0.9263157894736842\n",
      "0.9228070175438596\n",
      "0.9508771929824561\n",
      "0.9508771929824561\n",
      "0.9473684210526315\n",
      "0.9614035087719298\n",
      "0.9403508771929825\n",
      "0.9438596491228071\n"
     ]
    }
   ],
   "source": [
    "ss = ShuffleSplit(n_splits=10,\n",
    "                 train_size=0.5,\n",
    "                 test_size=0.5)\n",
    "\n",
    "for train_index, test_index in ss.split(X, y):\n",
    "    \n",
    "    X_train, X_test = X[train_index], X[test_index]\n",
    "    y_train, y_test = y[train_index], y[test_index]\n",
    "    \n",
    "    clf.fit(X_train, y_train)\n",
    "    print(clf.score(X_test, y_test))"
   ]
  },
  {
   "cell_type": "code",
   "execution_count": 10,
   "metadata": {},
   "outputs": [],
   "source": [
    "ss = ShuffleSplit(n_splits=1,\n",
    "                 train_size=0.95,\n",
    "                 test_size=0.05,\n",
    "                 random_state=3)\n",
    "\n",
    "train_index, test_index = next(ss.split(X,y))\n",
    "\n",
    "X_train, X_test = X[train_index], X[test_index]\n",
    "y_train, y_test = y[train_index], y[test_index]"
   ]
  },
  {
   "cell_type": "code",
   "execution_count": 11,
   "metadata": {},
   "outputs": [
    {
     "name": "stdout",
     "output_type": "stream",
     "text": [
      "(array([0, 1]), array([212, 357], dtype=int64))\n",
      "[0.37258348 0.62741652]\n",
      "[0.38333333 0.61666667]\n",
      "[0.17241379 0.82758621]\n"
     ]
    }
   ],
   "source": [
    "print(np.unique(y, return_counts=True))\n",
    "print(np.unique(y, return_counts=True)[1] / y.size)\n",
    "print(np.unique(y_train, return_counts=True)[1] / y_train.size)\n",
    "print(np.unique(y_test, return_counts=True)[1] / y_test.size)"
   ]
  },
  {
   "cell_type": "code",
   "execution_count": 12,
   "metadata": {},
   "outputs": [],
   "source": [
    "from sklearn.model_selection import StratifiedShuffleSplit"
   ]
  },
  {
   "cell_type": "code",
   "execution_count": 13,
   "metadata": {},
   "outputs": [],
   "source": [
    "ss = StratifiedShuffleSplit(n_splits=1,\n",
    "                 train_size=0.95,\n",
    "                 test_size=0.05,\n",
    "                 random_state=0)\n",
    "\n",
    "train_index, test_index = next(ss.split(X,y))\n",
    "\n",
    "X_train, X_test = X[train_index], X[test_index]\n",
    "y_train, y_test = y[train_index], y[test_index]"
   ]
  },
  {
   "cell_type": "code",
   "execution_count": 14,
   "metadata": {},
   "outputs": [
    {
     "name": "stdout",
     "output_type": "stream",
     "text": [
      "(array([0, 1]), array([212, 357], dtype=int64))\n",
      "[0.37258348 0.62741652]\n",
      "[0.37222222 0.62777778]\n",
      "[0.37931034 0.62068966]\n"
     ]
    }
   ],
   "source": [
    "print(np.unique(y,       return_counts=True))\n",
    "print(np.unique(y,       return_counts=True)[1] / y.size)\n",
    "print(np.unique(y_train, return_counts=True)[1] / y_train.size)\n",
    "print(np.unique(y_test,  return_counts=True)[1] / y_test.size)"
   ]
  },
  {
   "cell_type": "code",
   "execution_count": null,
   "metadata": {},
   "outputs": [],
   "source": []
  }
 ],
 "metadata": {
  "kernelspec": {
   "display_name": "Python 3",
   "language": "python",
   "name": "python3"
  },
  "language_info": {
   "codemirror_mode": {
    "name": "ipython",
    "version": 3
   },
   "file_extension": ".py",
   "mimetype": "text/x-python",
   "name": "python",
   "nbconvert_exporter": "python",
   "pygments_lexer": "ipython3",
   "version": "3.7.3"
  }
 },
 "nbformat": 4,
 "nbformat_minor": 2
}
