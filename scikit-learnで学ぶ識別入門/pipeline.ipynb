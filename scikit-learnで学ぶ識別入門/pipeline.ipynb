{
 "cells": [
  {
   "cell_type": "code",
   "execution_count": 1,
   "metadata": {},
   "outputs": [],
   "source": [
    "import numpy as np\n",
    "\n",
    "import matplotlib.pyplot as plt\n",
    "%matplotlib inline"
   ]
  },
  {
   "cell_type": "code",
   "execution_count": 2,
   "metadata": {},
   "outputs": [],
   "source": [
    "from sklearn.datasets import load_breast_cancer\n",
    "data = load_breast_cancer()\n",
    "X = data.data\n",
    "y = data.target"
   ]
  },
  {
   "cell_type": "code",
   "execution_count": 3,
   "metadata": {},
   "outputs": [],
   "source": [
    "from sklearn.model_selection import ShuffleSplit\n",
    "ss = ShuffleSplit(n_splits=1, \n",
    "                  train_size=0.8, \n",
    "                  test_size=0.2, \n",
    "                  random_state=0)\n",
    "\n",
    "train_index, test_index = next(ss.split(X, y))\n",
    "\n",
    "X_train, X_test = X[train_index], X[test_index]\n",
    "y_train, y_test = y[train_index], y[test_index]"
   ]
  },
  {
   "cell_type": "code",
   "execution_count": 4,
   "metadata": {},
   "outputs": [],
   "source": [
    "from sklearn.decomposition import PCA\n",
    "\n",
    "pca = PCA(whiten=True)\n",
    "pca.fit(X_train)\n",
    "X_train_pca = pca.transform(X_train)\n",
    "X_test_pca  = pca.transform(X_test)"
   ]
  },
  {
   "cell_type": "code",
   "execution_count": 5,
   "metadata": {},
   "outputs": [],
   "source": [
    "from sklearn.linear_model import LogisticRegression\n",
    "clf = LogisticRegression(solver='liblinear')"
   ]
  },
  {
   "cell_type": "code",
   "execution_count": 6,
   "metadata": {},
   "outputs": [
    {
     "data": {
      "text/plain": [
       "0.956140350877193"
      ]
     },
     "execution_count": 6,
     "metadata": {},
     "output_type": "execute_result"
    }
   ],
   "source": [
    "clf.fit(X_train, y_train)\n",
    "clf.score(X_test, y_test)"
   ]
  },
  {
   "cell_type": "code",
   "execution_count": 8,
   "metadata": {},
   "outputs": [],
   "source": [
    "from sklearn.pipeline import Pipeline\n",
    "\n",
    "estimators = [('pca', PCA(whiten=True)),\n",
    "              ('clf', LogisticRegression())]\n",
    "pipe = Pipeline(estimators)"
   ]
  },
  {
   "cell_type": "code",
   "execution_count": 9,
   "metadata": {},
   "outputs": [
    {
     "name": "stderr",
     "output_type": "stream",
     "text": [
      "C:\\Users\\NDA04\\Anaconda3\\lib\\site-packages\\sklearn\\linear_model\\logistic.py:432: FutureWarning: Default solver will be changed to 'lbfgs' in 0.22. Specify a solver to silence this warning.\n",
      "  FutureWarning)\n"
     ]
    },
    {
     "data": {
      "text/plain": [
       "Pipeline(memory=None,\n",
       "         steps=[('pca',\n",
       "                 PCA(copy=True, iterated_power='auto', n_components=None,\n",
       "                     random_state=None, svd_solver='auto', tol=0.0,\n",
       "                     whiten=True)),\n",
       "                ('clf',\n",
       "                 LogisticRegression(C=1.0, class_weight=None, dual=False,\n",
       "                                    fit_intercept=True, intercept_scaling=1,\n",
       "                                    l1_ratio=None, max_iter=100,\n",
       "                                    multi_class='warn', n_jobs=None,\n",
       "                                    penalty='l2', random_state=None,\n",
       "                                    solver='warn', tol=0.0001, verbose=0,\n",
       "                                    warm_start=False))],\n",
       "         verbose=False)"
      ]
     },
     "execution_count": 9,
     "metadata": {},
     "output_type": "execute_result"
    }
   ],
   "source": [
    "pipe.fit(X_train, y_train)"
   ]
  },
  {
   "cell_type": "code",
   "execution_count": 10,
   "metadata": {},
   "outputs": [
    {
     "data": {
      "text/plain": [
       "0.9649122807017544"
      ]
     },
     "execution_count": 10,
     "metadata": {},
     "output_type": "execute_result"
    }
   ],
   "source": [
    "pipe.score(X_test, y_test)"
   ]
  },
  {
   "cell_type": "code",
   "execution_count": null,
   "metadata": {},
   "outputs": [],
   "source": []
  },
  {
   "cell_type": "code",
   "execution_count": 11,
   "metadata": {},
   "outputs": [],
   "source": [
    "estimators = [('pca', PCA(whiten=True)), \n",
    "              ('clf', LogisticRegression(solver='liblinear'))]\n",
    "pipe = Pipeline(estimators)"
   ]
  },
  {
   "cell_type": "code",
   "execution_count": 12,
   "metadata": {},
   "outputs": [
    {
     "name": "stderr",
     "output_type": "stream",
     "text": [
      "C:\\Users\\NDA04\\Anaconda3\\lib\\site-packages\\sklearn\\model_selection\\_split.py:1978: FutureWarning: The default value of cv will change from 3 to 5 in version 0.22. Specify it explicitly to silence this warning.\n",
      "  warnings.warn(CV_WARNING, FutureWarning)\n"
     ]
    },
    {
     "data": {
      "text/plain": [
       "GridSearchCV(cv='warn', error_score='raise-deprecating',\n",
       "             estimator=Pipeline(memory=None,\n",
       "                                steps=[('pca',\n",
       "                                        PCA(copy=True, iterated_power='auto',\n",
       "                                            n_components=None,\n",
       "                                            random_state=None,\n",
       "                                            svd_solver='auto', tol=0.0,\n",
       "                                            whiten=True)),\n",
       "                                       ('clf',\n",
       "                                        LogisticRegression(C=1.0,\n",
       "                                                           class_weight=None,\n",
       "                                                           dual=False,\n",
       "                                                           fit_intercept=True,\n",
       "                                                           intercept_scaling=1,\n",
       "                                                           l1_ratio=None,\n",
       "                                                           max_iter=100,\n",
       "                                                           multi_class='warn',\n",
       "                                                           n_jobs=None,\n",
       "                                                           penalty='l2',\n",
       "                                                           random_state=None,\n",
       "                                                           solver='liblinear',\n",
       "                                                           tol=0.0001,\n",
       "                                                           verbose=0,\n",
       "                                                           warm_start=False))],\n",
       "                                verbose=False),\n",
       "             iid='warn', n_jobs=None,\n",
       "             param_grid={'clf__C': [1e-05, 0.001, 0.01, 1, 100.0, 100000.0,\n",
       "                                    10000000000.0]},\n",
       "             pre_dispatch='2*n_jobs', refit=True, return_train_score=False,\n",
       "             scoring=None, verbose=0)"
      ]
     },
     "execution_count": 12,
     "metadata": {},
     "output_type": "execute_result"
    }
   ],
   "source": [
    "from sklearn.model_selection import GridSearchCV\n",
    "\n",
    "param = {'clf__C':[1e-5, 1e-3, 1e-2, 1, 1e2, 1e5, 1e10]} # clf.C\n",
    "\n",
    "gs = GridSearchCV(pipe, param)\n",
    "gs.fit(X_train, y_train)"
   ]
  },
  {
   "cell_type": "code",
   "execution_count": 13,
   "metadata": {},
   "outputs": [
    {
     "data": {
      "text/plain": [
       "({'clf__C': 1}, 0.9560439560439561, Pipeline(memory=None,\n",
       "          steps=[('pca',\n",
       "                  PCA(copy=True, iterated_power='auto', n_components=None,\n",
       "                      random_state=None, svd_solver='auto', tol=0.0,\n",
       "                      whiten=True)),\n",
       "                 ('clf',\n",
       "                  LogisticRegression(C=1, class_weight=None, dual=False,\n",
       "                                     fit_intercept=True, intercept_scaling=1,\n",
       "                                     l1_ratio=None, max_iter=100,\n",
       "                                     multi_class='warn', n_jobs=None,\n",
       "                                     penalty='l2', random_state=None,\n",
       "                                     solver='liblinear', tol=0.0001, verbose=0,\n",
       "                                     warm_start=False))],\n",
       "          verbose=False))"
      ]
     },
     "execution_count": 13,
     "metadata": {},
     "output_type": "execute_result"
    }
   ],
   "source": [
    "gs.best_params_, gs.best_score_, gs.best_estimator_"
   ]
  },
  {
   "cell_type": "code",
   "execution_count": 14,
   "metadata": {},
   "outputs": [
    {
     "data": {
      "text/plain": [
       "0.9649122807017544"
      ]
     },
     "execution_count": 14,
     "metadata": {},
     "output_type": "execute_result"
    }
   ],
   "source": [
    "gs.score(X_test, y_test)"
   ]
  },
  {
   "cell_type": "code",
   "execution_count": null,
   "metadata": {},
   "outputs": [],
   "source": []
  },
  {
   "cell_type": "code",
   "execution_count": null,
   "metadata": {},
   "outputs": [],
   "source": []
  },
  {
   "cell_type": "code",
   "execution_count": 16,
   "metadata": {},
   "outputs": [
    {
     "name": "stderr",
     "output_type": "stream",
     "text": [
      "C:\\Users\\NDA04\\Anaconda3\\lib\\site-packages\\sklearn\\model_selection\\_split.py:1978: FutureWarning: The default value of cv will change from 3 to 5 in version 0.22. Specify it explicitly to silence this warning.\n",
      "  warnings.warn(CV_WARNING, FutureWarning)\n",
      "[Parallel(n_jobs=-1)]: Using backend LokyBackend with 8 concurrent workers.\n"
     ]
    },
    {
     "name": "stdout",
     "output_type": "stream",
     "text": [
      "Fitting 3 folds for each of 10 candidates, totalling 30 fits\n"
     ]
    },
    {
     "name": "stderr",
     "output_type": "stream",
     "text": [
      "[Parallel(n_jobs=-1)]: Done  30 out of  30 | elapsed:  2.6min finished\n"
     ]
    },
    {
     "data": {
      "text/plain": [
       "RandomizedSearchCV(cv='warn', error_score='raise-deprecating',\n",
       "                   estimator=Pipeline(memory=None,\n",
       "                                      steps=[('pca',\n",
       "                                              PCA(copy=True,\n",
       "                                                  iterated_power='auto',\n",
       "                                                  n_components=None,\n",
       "                                                  random_state=None,\n",
       "                                                  svd_solver='auto', tol=0.0,\n",
       "                                                  whiten=False)),\n",
       "                                             ('clf',\n",
       "                                              SVC(C=1.0, cache_size=200,\n",
       "                                                  class_weight=None, coef0=0.0,\n",
       "                                                  decision_function_shape='ovr',\n",
       "                                                  degree=3, gamma='auto',\n",
       "                                                  kernel='rbf', max_it...\n",
       "                                                  random_state=None,\n",
       "                                                  shrinking=True, tol=0.001,\n",
       "                                                  verbose=False))],\n",
       "                                      verbose=False),\n",
       "                   iid='warn', n_iter=10, n_jobs=-1,\n",
       "                   param_distributions={'clf__C': [0.001, 0.01, 1, 100.0,\n",
       "                                                   1000.0],\n",
       "                                        'clf__kernel': ['linear', 'rbf'],\n",
       "                                        'pca__n_components': [30, 20, 10],\n",
       "                                        'pca__whiten': [True, False]},\n",
       "                   pre_dispatch='2*n_jobs', random_state=None, refit=True,\n",
       "                   return_train_score=False, scoring=None, verbose=2)"
      ]
     },
     "execution_count": 16,
     "metadata": {},
     "output_type": "execute_result"
    }
   ],
   "source": [
    "from sklearn.svm import SVC\n",
    "\n",
    "C_range = [1e-3,1e-2,1,1e2,1e3]\n",
    "\n",
    "param = {'clf__C':C_range,\n",
    "         'clf__kernel':['linear','rbf'],\n",
    "         'pca__whiten':[True, False],\n",
    "          'pca__n_components':[30,20,10]}\n",
    "\n",
    "estimators = [('pca',PCA()),\n",
    "              ('clf',SVC(gamma='auto'))]\n",
    "\n",
    "pipe = Pipeline(estimators)\n",
    "\n",
    "from sklearn.model_selection import RandomizedSearchCV\n",
    "\n",
    "gs = RandomizedSearchCV(pipe, param, n_jobs=-1, verbose=2)\n",
    "gs.fit(X_train,y_train)"
   ]
  },
  {
   "cell_type": "code",
   "execution_count": 17,
   "metadata": {},
   "outputs": [
    {
     "data": {
      "text/plain": [
       "({'pca__whiten': False,\n",
       "  'pca__n_components': 30,\n",
       "  'clf__kernel': 'linear',\n",
       "  'clf__C': 100.0},\n",
       " 0.9560439560439561,\n",
       " Pipeline(memory=None,\n",
       "          steps=[('pca',\n",
       "                  PCA(copy=True, iterated_power='auto', n_components=30,\n",
       "                      random_state=None, svd_solver='auto', tol=0.0,\n",
       "                      whiten=False)),\n",
       "                 ('clf',\n",
       "                  SVC(C=100.0, cache_size=200, class_weight=None, coef0=0.0,\n",
       "                      decision_function_shape='ovr', degree=3, gamma='auto',\n",
       "                      kernel='linear', max_iter=-1, probability=False,\n",
       "                      random_state=None, shrinking=True, tol=0.001,\n",
       "                      verbose=False))],\n",
       "          verbose=False))"
      ]
     },
     "execution_count": 17,
     "metadata": {},
     "output_type": "execute_result"
    }
   ],
   "source": [
    "gs.best_params_, gs.best_score_, gs.best_estimator_"
   ]
  },
  {
   "cell_type": "code",
   "execution_count": 18,
   "metadata": {},
   "outputs": [
    {
     "data": {
      "text/plain": [
       "0.956140350877193"
      ]
     },
     "execution_count": 18,
     "metadata": {},
     "output_type": "execute_result"
    }
   ],
   "source": [
    "gs.score(X_test, y_test)"
   ]
  },
  {
   "cell_type": "code",
   "execution_count": 19,
   "metadata": {},
   "outputs": [
    {
     "data": {
      "text/plain": [
       "{'mean_fit_time': array([8.50722562e+01, 3.60097090e-02, 1.63327853e-02, 1.98368613e+00,\n",
       "        7.66611099e-03, 5.99741936e-03, 1.99995836e-02, 7.33272235e-03,\n",
       "        7.00076421e-03, 3.99963061e-03]),\n",
       " 'std_fit_time': array([5.67294995e+01, 1.28447111e-02, 2.49697629e-03, 1.27165866e+00,\n",
       "        9.44089487e-04, 8.15465805e-04, 3.55812096e-03, 9.42853601e-04,\n",
       "        8.16242742e-04, 6.83651389e-07]),\n",
       " 'mean_score_time': array([0.00099874, 0.00133435, 0.00233412, 0.0006667 , 0.00333309,\n",
       "        0.00200137, 0.00133451, 0.00233324, 0.00166702, 0.00100056]),\n",
       " 'std_score_time': array([2.03239311e-06, 4.71932673e-04, 4.71876126e-04, 4.71426560e-04,\n",
       "        1.88598720e-03, 1.47400196e-06, 4.72831444e-04, 4.70809040e-04,\n",
       "        9.42741029e-04, 2.97360213e-07]),\n",
       " 'param_pca__whiten': masked_array(data=[False, False, True, False, True, True, False, True,\n",
       "                    False, True],\n",
       "              mask=[False, False, False, False, False, False, False, False,\n",
       "                    False, False],\n",
       "        fill_value='?',\n",
       "             dtype=object),\n",
       " 'param_pca__n_components': masked_array(data=[30, 20, 30, 10, 20, 30, 30, 20, 10, 10],\n",
       "              mask=[False, False, False, False, False, False, False, False,\n",
       "                    False, False],\n",
       "        fill_value='?',\n",
       "             dtype=object),\n",
       " 'param_clf__kernel': masked_array(data=['linear', 'linear', 'rbf', 'linear', 'rbf', 'linear',\n",
       "                    'linear', 'rbf', 'linear', 'linear'],\n",
       "              mask=[False, False, False, False, False, False, False, False,\n",
       "                    False, False],\n",
       "        fill_value='?',\n",
       "             dtype=object),\n",
       " 'param_clf__C': masked_array(data=[100.0, 0.01, 1000.0, 1, 1000.0, 0.01, 0.01, 0.01,\n",
       "                    0.001, 0.01],\n",
       "              mask=[False, False, False, False, False, False, False, False,\n",
       "                    False, False],\n",
       "        fill_value='?',\n",
       "             dtype=object),\n",
       " 'params': [{'pca__whiten': False,\n",
       "   'pca__n_components': 30,\n",
       "   'clf__kernel': 'linear',\n",
       "   'clf__C': 100.0},\n",
       "  {'pca__whiten': False,\n",
       "   'pca__n_components': 20,\n",
       "   'clf__kernel': 'linear',\n",
       "   'clf__C': 0.01},\n",
       "  {'pca__whiten': True,\n",
       "   'pca__n_components': 30,\n",
       "   'clf__kernel': 'rbf',\n",
       "   'clf__C': 1000.0},\n",
       "  {'pca__whiten': False,\n",
       "   'pca__n_components': 10,\n",
       "   'clf__kernel': 'linear',\n",
       "   'clf__C': 1},\n",
       "  {'pca__whiten': True,\n",
       "   'pca__n_components': 20,\n",
       "   'clf__kernel': 'rbf',\n",
       "   'clf__C': 1000.0},\n",
       "  {'pca__whiten': True,\n",
       "   'pca__n_components': 30,\n",
       "   'clf__kernel': 'linear',\n",
       "   'clf__C': 0.01},\n",
       "  {'pca__whiten': False,\n",
       "   'pca__n_components': 30,\n",
       "   'clf__kernel': 'linear',\n",
       "   'clf__C': 0.01},\n",
       "  {'pca__whiten': True,\n",
       "   'pca__n_components': 20,\n",
       "   'clf__kernel': 'rbf',\n",
       "   'clf__C': 0.01},\n",
       "  {'pca__whiten': False,\n",
       "   'pca__n_components': 10,\n",
       "   'clf__kernel': 'linear',\n",
       "   'clf__C': 0.001},\n",
       "  {'pca__whiten': True,\n",
       "   'pca__n_components': 10,\n",
       "   'clf__kernel': 'linear',\n",
       "   'clf__C': 0.01}],\n",
       " 'split0_test_score': array([0.96710526, 0.95394737, 0.94736842, 0.96710526, 0.94078947,\n",
       "        0.94736842, 0.95394737, 0.63815789, 0.94736842, 0.875     ]),\n",
       " 'split1_test_score': array([0.94078947, 0.92763158, 0.89473684, 0.92763158, 0.92105263,\n",
       "        0.94078947, 0.92763158, 0.63815789, 0.90789474, 0.90131579]),\n",
       " 'split2_test_score': array([0.9602649 , 0.96688742, 0.91390728, 0.94701987, 0.93377483,\n",
       "        0.94039735, 0.96688742, 0.63576159, 0.95364238, 0.91390728]),\n",
       " 'mean_test_score': array([0.95604396, 0.94945055, 0.91868132, 0.94725275, 0.93186813,\n",
       "        0.94285714, 0.94945055, 0.63736264, 0.93626374, 0.8967033 ]),\n",
       " 'std_test_score': array([0.011159  , 0.01633082, 0.02177191, 0.0161336 , 0.00817755,\n",
       "        0.00319922, 0.01633082, 0.00112838, 0.0202554 , 0.01620768]),\n",
       " 'rank_test_score': array([ 1,  2,  8,  4,  7,  5,  2, 10,  6,  9])}"
      ]
     },
     "execution_count": 19,
     "metadata": {},
     "output_type": "execute_result"
    }
   ],
   "source": [
    "gs.cv_results_"
   ]
  },
  {
   "cell_type": "code",
   "execution_count": null,
   "metadata": {},
   "outputs": [],
   "source": []
  }
 ],
 "metadata": {
  "kernelspec": {
   "display_name": "Python 3",
   "language": "python",
   "name": "python3"
  },
  "language_info": {
   "codemirror_mode": {
    "name": "ipython",
    "version": 3
   },
   "file_extension": ".py",
   "mimetype": "text/x-python",
   "name": "python",
   "nbconvert_exporter": "python",
   "pygments_lexer": "ipython3",
   "version": "3.7.3"
  }
 },
 "nbformat": 4,
 "nbformat_minor": 2
}
