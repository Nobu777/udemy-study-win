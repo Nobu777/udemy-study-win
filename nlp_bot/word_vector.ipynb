{
 "cells": [
  {
   "cell_type": "code",
   "execution_count": 1,
   "metadata": {},
   "outputs": [],
   "source": [
    "import pickle\n",
    "from gensim.models import word2vec\n",
    "\n",
    "with open('wagahai_words.pickle', mode='rb') as f:\n",
    "    wagahai_words = pickle.load(f)\n",
    "\n",
    "\n",
    "# size : 中間層のニューロン数\n",
    "# min_count : この値以下の出現回数の単語を無視\n",
    "# window : 対象単語を中心とした前後の単語数\n",
    "# iter : epochs数\n",
    "# sg : CBOWを使うかskip-gramを使うか 0:CBOW 1:skip-gram\n",
    "model = word2vec.Word2Vec(wagahai_words,\n",
    "                          size=100,\n",
    "                          min_count=5,\n",
    "                          window=5,\n",
    "                          iter=20,\n",
    "                          sg = 0)"
   ]
  },
  {
   "cell_type": "code",
   "execution_count": 2,
   "metadata": {},
   "outputs": [
    {
     "data": {
      "text/plain": [
       "[('君子', 0.7747810482978821),\n",
       " ('戦争', 0.7587078809738159),\n",
       " ('智識', 0.7452095150947571),\n",
       " ('自己', 0.7301276326179504),\n",
       " ('彼等', 0.727433443069458),\n",
       " ('事実', 0.7238371968269348),\n",
       " ('自覚', 0.7157610058784485),\n",
       " ('世間', 0.713283121585846),\n",
       " ('動物', 0.7088085412979126),\n",
       " ('者', 0.7016236782073975)]"
      ]
     },
     "execution_count": 2,
     "metadata": {},
     "output_type": "execute_result"
    }
   ],
   "source": [
    "model.wv.most_similar(positive=[\"猫\", \"人間\"])"
   ]
  },
  {
   "cell_type": "code",
   "execution_count": 3,
   "metadata": {},
   "outputs": [
    {
     "data": {
      "text/plain": [
       "[('教師', 0.7156451940536499),\n",
       " ('芸術', 0.6985689401626587),\n",
       " ('君子', 0.6318588852882385),\n",
       " ('出来る', 0.6137471199035645),\n",
       " ('充分', 0.6027891039848328),\n",
       " ('到底', 0.579247236251831),\n",
       " ('いかに', 0.5752701163291931),\n",
       " ('ども', 0.574791669845581),\n",
       " ('戦争', 0.5745449066162109),\n",
       " ('智識', 0.5743513107299805)]"
      ]
     },
     "execution_count": 3,
     "metadata": {},
     "output_type": "execute_result"
    }
   ],
   "source": [
    "model.wv.most_similar(positive=[\"人間\",\"猫\"],negative=[\"夢\"])"
   ]
  },
  {
   "cell_type": "code",
   "execution_count": 4,
   "metadata": {},
   "outputs": [
    {
     "data": {
      "text/plain": [
       "[('いえ', 0.6734966039657593),\n",
       " ('嫌', 0.6249140501022339),\n",
       " ('家', 0.6127317547798157),\n",
       " ('あの', 0.5897100567817688),\n",
       " ('芸術', 0.5890818238258362),\n",
       " ('しかし', 0.5878612995147705),\n",
       " ('月並', 0.5819531679153442),\n",
       " ('実業', 0.5750293731689453),\n",
       " ('あれ', 0.5659900903701782),\n",
       " ('生徒', 0.5536707639694214)]"
      ]
     },
     "execution_count": 4,
     "metadata": {},
     "output_type": "execute_result"
    }
   ],
   "source": [
    "model.wv.most_similar(positive=[\"教師\"], negative=[\"夢\"])"
   ]
  },
  {
   "cell_type": "code",
   "execution_count": null,
   "metadata": {},
   "outputs": [],
   "source": []
  }
 ],
 "metadata": {
  "kernelspec": {
   "display_name": "Python 3",
   "language": "python",
   "name": "python3"
  },
  "language_info": {
   "codemirror_mode": {
    "name": "ipython",
    "version": 3
   },
   "file_extension": ".py",
   "mimetype": "text/x-python",
   "name": "python",
   "nbconvert_exporter": "python",
   "pygments_lexer": "ipython3",
   "version": "3.7.7"
  }
 },
 "nbformat": 4,
 "nbformat_minor": 4
}
