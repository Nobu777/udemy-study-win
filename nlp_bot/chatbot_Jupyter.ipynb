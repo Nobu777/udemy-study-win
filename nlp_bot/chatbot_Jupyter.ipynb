{
 "cells": [
  {
   "cell_type": "code",
   "execution_count": 1,
   "metadata": {},
   "outputs": [
    {
     "name": "stdout",
     "output_type": "stream",
     "text": [
      "['\\t', '\\n', '、', '。', '々', 'ぁ', 'あ', 'ぃ', 'い', 'ぅ', 'う', 'ぇ', 'え', 'ぉ', 'お', 'か', 'が', 'き', 'ぎ', 'く', 'ぐ', 'け', 'げ', 'こ', 'ご', 'さ', 'ざ', 'し', 'じ', 'す', 'ず', 'せ', 'ぜ', 'そ', 'ぞ', 'た', 'だ', 'ち', 'ぢ', 'っ', 'つ', 'づ', 'て', 'で', 'と', 'ど', 'な', 'に', 'ぬ', 'ね', 'の', 'は', 'ば', 'ぱ', 'ひ', 'び', 'ぴ', 'ふ', 'ぶ', 'ぷ', 'へ', 'べ', 'ぺ', 'ほ', 'ぼ', 'ぽ', 'ま', 'み', 'む', 'め', 'も', 'ゃ', 'や', 'ゅ', 'ゆ', 'ょ', 'よ', 'ら', 'り', 'る', 'れ', 'ろ', 'ゎ', 'わ', 'ゐ', 'ゑ', 'を', 'ん', 'ァ', 'ア', 'ィ', 'イ', 'ゥ', 'ウ', 'ェ', 'エ', 'ォ', 'オ', 'カ', 'ガ', 'キ', 'ギ', 'ク', 'グ', 'ケ', 'ゲ', 'コ', 'ゴ', 'サ', 'ザ', 'シ', 'ジ', 'ス', 'ズ', 'セ', 'ゼ', 'ソ', 'ゾ', 'タ', 'ダ', 'チ', 'ヂ', 'ッ', 'ツ', 'ヅ', 'テ', 'デ', 'ト', 'ド', 'ナ', 'ニ', 'ヌ', 'ネ', 'ノ', 'ハ', 'バ', 'パ', 'ヒ', 'ビ', 'ピ', 'フ', 'ブ', 'プ', 'ヘ', 'ベ', 'ペ', 'ホ', 'ボ', 'ポ', 'マ', 'ミ', 'ム', 'メ', 'モ', 'ャ', 'ヤ', 'ュ', 'ユ', 'ョ', 'ヨ', 'ラ', 'リ', 'ル', 'レ', 'ロ', 'ヮ', 'ワ', 'ヰ', 'ヱ', 'ヲ', 'ン', 'ヴ', '・', 'ー', '？']\n"
     ]
    }
   ],
   "source": [
    "import pickle\n",
    "\n",
    "with open('kana_chars.pickle', mode='rb') as f:\n",
    "    chars_list = pickle.load(f)\n",
    "print(chars_list)\n",
    "\n",
    "def is_invalid(message):\n",
    "    is_invalid = False\n",
    "    for char in message:\n",
    "        if char not in chars_list:\n",
    "            is_invalid = True\n",
    "    return is_invalid"
   ]
  },
  {
   "cell_type": "code",
   "execution_count": 2,
   "metadata": {},
   "outputs": [],
   "source": [
    "import numpy as np\n",
    "\n",
    "char_indices = {}\n",
    "for i, char in enumerate(chars_list):\n",
    "    char_indices[char] = i\n",
    "indices_char={}\n",
    "for i, char in enumerate(chars_list):\n",
    "    indices_char[i] = char\n",
    "    \n",
    "n_char = len(chars_list)\n",
    "max_length_x = 128\n",
    "\n",
    "def sentence_to_vector(sentence):\n",
    "    vector = np.zeros((1 , max_length_x, n_char), dtype=np.bool)\n",
    "    for j, char in enumerate(sentence):\n",
    "        vector[0][j][char_indices[char]] = 1\n",
    "    return vector"
   ]
  },
  {
   "cell_type": "code",
   "execution_count": 3,
   "metadata": {},
   "outputs": [
    {
     "name": "stderr",
     "output_type": "stream",
     "text": [
      "Using TensorFlow backend.\n",
      "C:\\Users\\NDA04\\Anaconda3\\envs\\nlp_bot\\lib\\site-packages\\keras\\engine\\saving.py:341: UserWarning: No training configuration found in save file: the model was *not* compiled. Compile it manually.\n",
      "  warnings.warn('No training configuration found in save file: '\n"
     ]
    }
   ],
   "source": [
    "from keras.models import load_model\n",
    "\n",
    "encoder_model = load_model('encoder_model.h5')\n",
    "decoder_model = load_model('decoder_model.h5')\n",
    "\n",
    "def respond(message, beta=5):\n",
    "    vec = sentence_to_vector(message)\n",
    "    state_value = encoder_model.predict(vec)\n",
    "    y_decoder = np.zeros((1, 1, n_char))\n",
    "    y_decoder[0][0][char_indices[\"\\t\"]] = 1\n",
    "    \n",
    "    respond_sentence = \"\"\n",
    "    while True:\n",
    "        y, h = decoder_model.predict([y_decoder, state_value])\n",
    "        p_power = y[0][0] ** beta\n",
    "        next_index = np.random.choice(len(p_power), p=p_power/np.sum(p_power))\n",
    "        next_char = indices_char[next_index]\n",
    "        \n",
    "        if (next_char == \"\\n\" or len(respond_sentence) >= max_length_x):\n",
    "            break\n",
    "            \n",
    "        respond_sentence += next_char\n",
    "        y_decoder = np.zeros((1, 1, n_char))\n",
    "        y_decoder[0][0][next_index] = 1\n",
    "        \n",
    "        state_value = h\n",
    "        \n",
    "    return respond_sentence"
   ]
  },
  {
   "cell_type": "code",
   "execution_count": 4,
   "metadata": {},
   "outputs": [
    {
     "name": "stdout",
     "output_type": "stream",
     "text": [
      "おなまえをおあしえてください。:nobu\n",
      "\n",
      "賢治bot: こんにちは、nobuさん。\n",
      "nobu: こんにちは、けんじさん\n",
      "賢治bot: なんだかあったのです。\n",
      "nobu: うまくいかないのです\n",
      "賢治bot: おまえはもうだんだんはいっていました。\n",
      "nobu: わからなくなってきました\n",
      "賢治bot: このちょうどはいいろのかわのみずのなかにはいっていました。\n",
      "nobu: かわあそびもたのしそうですね\n",
      "賢治bot: きょうがいいました。\n",
      "nobu: そうなんですね\n",
      "賢治bot: そうだ。\n",
      "nobu: いいことありますか\n",
      "賢治bot: さんにんのあおいろいろのはらをみました。\n",
      "nobu: さようなら\n",
      "賢治bot: またさぶろうはすっかりきれいないから、いちばんはじめているのです。\n",
      "nobu: さようなら。\n",
      "賢治bot: またさぶろうはすっかりあげていきました。\n"
     ]
    }
   ],
   "source": [
    "bot_name = \"賢治bot\"\n",
    "your_name = input(\"おなまえをおあしえてください。:\")\n",
    "print()\n",
    "\n",
    "print(bot_name + \": \" + \"こんにちは、\"+ your_name + \"さん。\")\n",
    "message = \"\"\n",
    "while message != \"さようなら。\":\n",
    "    \n",
    "    while True:\n",
    "        message = input(your_name + \": \")\n",
    "        if not is_invalid(message):\n",
    "            break\n",
    "        else:\n",
    "            print(bot_name + \": ひらがなか、カタカナをつかってください。\")\n",
    "            \n",
    "    response = respond(message)\n",
    "    print(bot_name + \": \" + response)"
   ]
  },
  {
   "cell_type": "code",
   "execution_count": 5,
   "metadata": {},
   "outputs": [
    {
     "name": "stdout",
     "output_type": "stream",
     "text": [
      "おなまえをおあしえてください。:nobu\n",
      "\n",
      "賢治bot1: こんにちは、nobuさん。\n",
      "賢治bot2: こんにちは、nobuさん。\n",
      "nobu: 調子はどうですか？\n",
      "賢治bot1: ひらがなか、カタカナをつかってください。\n",
      "nobu: ちょうしはどうですか\n",
      "賢治bot1: するとあたまをおとうさんのとうりのようになって、とうとうからからからだをだしているのです。\n",
      "賢治bot2: するとあたまをおとうさんのとうりのようになって、とうとうからからからだをだしているのです。\n",
      "nobu: さようなら。\n",
      "賢治bot1: またさぶろうはすっかりきたのです。\n",
      "賢治bot2: またさぶろうはすっかりきたのです。\n"
     ]
    }
   ],
   "source": [
    "bot_name1 = \"賢治bot1\"\n",
    "bot_name2 = \"賢治bot2\"\n",
    "your_name = input(\"おなまえをおあしえてください。:\")\n",
    "print()\n",
    "\n",
    "print(bot_name1 + \": \" + \"こんにちは、\"+ your_name + \"さん。\")\n",
    "print(bot_name2 + \": \" + \"こんにちは、\"+ your_name + \"さん。\")\n",
    "\n",
    "message = \"\"\n",
    "while message != \"さようなら。\":\n",
    "    \n",
    "    while True:\n",
    "        message = input(your_name + \": \")\n",
    "        if not is_invalid(message):\n",
    "            break\n",
    "        else:\n",
    "            print(bot_name1 + \": ひらがなか、カタカナをつかってください。\")\n",
    "            \n",
    "    response = respond(message)\n",
    "    print(bot_name1 + \": \" + response)\n",
    "    print(bot_name2 + \": \" + response)    "
   ]
  },
  {
   "cell_type": "code",
   "execution_count": null,
   "metadata": {},
   "outputs": [],
   "source": []
  }
 ],
 "metadata": {
  "kernelspec": {
   "display_name": "Python 3",
   "language": "python",
   "name": "python3"
  },
  "language_info": {
   "codemirror_mode": {
    "name": "ipython",
    "version": 3
   },
   "file_extension": ".py",
   "mimetype": "text/x-python",
   "name": "python",
   "nbconvert_exporter": "python",
   "pygments_lexer": "ipython3",
   "version": "3.7.7"
  }
 },
 "nbformat": 4,
 "nbformat_minor": 4
}
