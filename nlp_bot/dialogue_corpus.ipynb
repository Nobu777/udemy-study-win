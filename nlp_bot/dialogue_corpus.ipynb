{
 "cells": [
  {
   "cell_type": "code",
   "execution_count": 3,
   "metadata": {},
   "outputs": [
    {
     "name": "stdout",
     "output_type": "stream",
     "text": [
      "文字数:  151453\n"
     ]
    }
   ],
   "source": [
    "import re\n",
    "\n",
    "novels = [\"gingatetsudono_yoru.txt\", \"serohikino_goshu.txt\", \"chumonno_oi_ryoriten.txt\",\n",
    "         \"gusukobudorino_denki.txt\", \"kaeruno_gomugutsu.txt\", \"kaino_hi.txt\", \"kashiwabayashino_yoru.txt\",\n",
    "          \"kazeno_matasaburo.txt\", \"kiirono_tomato.txt\", \"oinomorito_zarumori.txt\"]\n",
    "\n",
    "text = \"\"\n",
    "for novel in novels:\n",
    "    with open(\"kenji_novels/\"+novel, mode=\"r\", encoding=\"utf-8\") as f:\n",
    "        text_novel = f.read()\n",
    "    text_novel = re.sub(\"《[^》]+》\", \"\", text_novel)  # ルビの削除\n",
    "    text_novel = re.sub(\"［[^］]+］\", \"\", text_novel)  # 読みの注意の削除\n",
    "    text_novel = re.sub(\"〔[^〕]+〕\", \"\", text_novel)  # 読みの注意の削除\n",
    "    text_novel = re.sub(\"[ 　\\n「」『』（）｜※＊…]\", \"\", text_novel)  # 全角半角スペース、改行、その他記号の削除\n",
    "    text += text_novel\n",
    "\n",
    "print(\"文字数: \", len(text))"
   ]
  },
  {
   "cell_type": "code",
   "execution_count": 6,
   "metadata": {},
   "outputs": [],
   "source": [
    "from pykakasi import kakasi\n",
    "\n",
    "text = text.replace(\"苹果\",\"ひょうか\")\n",
    "\n",
    "seperator = \"。\"\n",
    "sentence_list = text.split(separator)\n",
    "sentence_list.pop()\n",
    "sentence_list = [x+seperator for x in sentence_list]\n",
    "\n",
    "kakasi = kakasi()\n",
    "kakasi.setMode(\"J\", \"H\")\n",
    "conv = kakasi.getConverter()"
   ]
  },
  {
   "cell_type": "code",
   "execution_count": 7,
   "metadata": {},
   "outputs": [],
   "source": [
    "kana_text = conv.do(text)"
   ]
  },
  {
   "cell_type": "code",
   "execution_count": 8,
   "metadata": {},
   "outputs": [],
   "source": [
    "with open(\"kana_kanji.txt\", mode=\"w\", encoding=\"utf-8\") as f:\n",
    "    f.write(kana_text)"
   ]
  },
  {
   "cell_type": "code",
   "execution_count": 9,
   "metadata": {},
   "outputs": [],
   "source": [
    "with open(\"kana_kanji.txt\", mode=\"r\", encoding=\"utf-8\") as f:\n",
    "    kana_text = f.read()"
   ]
  },
  {
   "cell_type": "code",
   "execution_count": null,
   "metadata": {},
   "outputs": [],
   "source": []
  }
 ],
 "metadata": {
  "kernelspec": {
   "display_name": "Python 3",
   "language": "python",
   "name": "python3"
  },
  "language_info": {
   "codemirror_mode": {
    "name": "ipython",
    "version": 3
   },
   "file_extension": ".py",
   "mimetype": "text/x-python",
   "name": "python",
   "nbconvert_exporter": "python",
   "pygments_lexer": "ipython3",
   "version": "3.7.7"
  }
 },
 "nbformat": 4,
 "nbformat_minor": 4
}
