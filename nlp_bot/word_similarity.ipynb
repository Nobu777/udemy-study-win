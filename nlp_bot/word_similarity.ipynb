{
 "cells": [
  {
   "cell_type": "code",
   "execution_count": 2,
   "metadata": {},
   "outputs": [],
   "source": [
    "import pickle\n",
    "from gensim.models import word2vec\n",
    "\n",
    "with open('wagahai_words.pickle', mode='rb') as f:\n",
    "    wagahai_words = pickle.load(f)\n",
    "\n",
    "\n",
    "# size : 中間層のニューロン数\n",
    "# min_count : この値以下の出現回数の単語を無視\n",
    "# window : 対象単語を中心とした前後の単語数\n",
    "# iter : epochs数\n",
    "# sg : CBOWを使うかskip-gramを使うか 0:CBOW 1:skip-gram\n",
    "model = word2vec.Word2Vec(wagahai_words,\n",
    "                          size=100,\n",
    "                          min_count=5,\n",
    "                          window=5,\n",
    "                          iter=20,\n",
    "                          sg = 0)"
   ]
  },
  {
   "cell_type": "code",
   "execution_count": 3,
   "metadata": {},
   "outputs": [
    {
     "name": "stdout",
     "output_type": "stream",
     "text": [
      "[('人間', 0.7469384670257568), ('教師', 0.7138963937759399), ('君子', 0.6913450360298157), ('戦争', 0.6884918212890625), ('到底', 0.6835919618606567), ('事実', 0.6831334829330444), ('当人', 0.6795771718025208), ('智識', 0.6774815320968628), ('逆上', 0.6645370125770569), ('芸術', 0.6629152297973633)]\n"
     ]
    }
   ],
   "source": [
    "print(model.wv.most_similar(\"猫\"))"
   ]
  },
  {
   "cell_type": "code",
   "execution_count": 4,
   "metadata": {},
   "outputs": [
    {
     "name": "stdout",
     "output_type": "stream",
     "text": [
      "0.74693835\n"
     ]
    }
   ],
   "source": [
    "import numpy as np\n",
    "\n",
    "a = model.wv.__getitem__(\"猫\")\n",
    "b = model.wv.__getitem__(\"人間\")\n",
    "cos_sim = np.dot(a, b) / np.linalg.norm(a) / np.linalg.norm(b)\n",
    "print(cos_sim)"
   ]
  },
  {
   "cell_type": "code",
   "execution_count": 5,
   "metadata": {},
   "outputs": [
    {
     "name": "stdout",
     "output_type": "stream",
     "text": [
      "[('浜田', 0.737774133682251), ('あいつ', 0.7287255525588989), ('変り', 0.7210806608200073), ('艶', 0.7088751792907715), ('妻', 0.7079954147338867), ('嫌', 0.7036722302436829), ('ありゃ', 0.7017197608947754), ('男爵', 0.6919903755187988), ('娘', 0.689413845539093), ('用事', 0.6879858374595642)]\n"
     ]
    }
   ],
   "source": [
    "print(model.wv.most_similar(\"名前\"))"
   ]
  },
  {
   "cell_type": "code",
   "execution_count": 6,
   "metadata": {},
   "outputs": [
    {
     "name": "stdout",
     "output_type": "stream",
     "text": [
      "0.737774\n"
     ]
    }
   ],
   "source": [
    "import numpy as np\n",
    "\n",
    "a = model.wv.__getitem__(\"名前\")\n",
    "b = model.wv.__getitem__(\"浜田\")\n",
    "cos_sim = np.dot(a, b) / np.linalg.norm(a) / np.linalg.norm(b)\n",
    "print(cos_sim)"
   ]
  },
  {
   "cell_type": "code",
   "execution_count": null,
   "metadata": {},
   "outputs": [],
   "source": []
  }
 ],
 "metadata": {
  "kernelspec": {
   "display_name": "Python 3",
   "language": "python",
   "name": "python3"
  },
  "language_info": {
   "codemirror_mode": {
    "name": "ipython",
    "version": 3
   },
   "file_extension": ".py",
   "mimetype": "text/x-python",
   "name": "python",
   "nbconvert_exporter": "python",
   "pygments_lexer": "ipython3",
   "version": "3.7.7"
  }
 },
 "nbformat": 4,
 "nbformat_minor": 4
}
