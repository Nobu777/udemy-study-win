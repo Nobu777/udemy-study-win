{
 "cells": [
  {
   "cell_type": "code",
   "execution_count": 1,
   "metadata": {},
   "outputs": [],
   "source": [
    "import numpy as np\n",
    "import pandas as pd\n",
    "import matplotlib.pyplot as plt\n",
    "from scipy.special import gamma\n",
    "%matplotlib inline"
   ]
  },
  {
   "cell_type": "code",
   "execution_count": 2,
   "metadata": {},
   "outputs": [],
   "source": [
    "plt.style.use(\"ggplot\")\n",
    "np.random.seed(123)\n",
    "accept_dict = {}"
   ]
  },
  {
   "cell_type": "code",
   "execution_count": 19,
   "metadata": {},
   "outputs": [
    {
     "name": "stdout",
     "output_type": "stream",
     "text": [
      "accept ratio:  0.000175\n",
      "analytical solution:  0.00011116073666788121\n"
     ]
    }
   ],
   "source": [
    "NMCS = 40000\n",
    "Ndim = 13\n",
    "accept = 0\n",
    "for i in range(NMCS):\n",
    "    x = 2 * np.random.rand(Ndim) - 1.0\n",
    "    r = (np.sum(x**2))**0.5\n",
    "    if r <= 1:\n",
    "        accept+=1\n",
    "accept_ratio = accept / NMCS\n",
    "analytical = np.pi ** (Ndim/2.0) / (2**Ndim*gamma(Ndim/2+1))\n",
    "print(\"accept ratio: \", accept_ratio)\n",
    "print(\"analytical solution: \",analytical)\n",
    "accept_dict.update({Ndim:accept_ratio / analytical})"
   ]
  },
  {
   "cell_type": "code",
   "execution_count": 20,
   "metadata": {},
   "outputs": [],
   "source": [
    "df = pd.DataFrame.from_dict(accept_dict, orient=\"index\")"
   ]
  },
  {
   "cell_type": "code",
   "execution_count": 21,
   "metadata": {},
   "outputs": [
    {
     "data": {
      "text/plain": [
       "Text(0, 0.5, 'ratio[-]')"
      ]
     },
     "execution_count": 21,
     "metadata": {},
     "output_type": "execute_result"
    },
    {
     "data": {
      "image/png": "[encoded data removed]",
      "text/plain": [
       "<Figure size 432x288 with 1 Axes>"
      ]
     },
     "metadata": {},
     "output_type": "display_data"
    }
   ],
   "source": [
    "plt.scatter(df.index, df[0])\n",
    "plt.xlabel(\"dimension\")\n",
    "plt.ylabel(\"ratio[-]\")"
   ]
  },
  {
   "cell_type": "code",
   "execution_count": null,
   "metadata": {},
   "outputs": [],
   "source": []
  }
 ],
 "metadata": {
  "kernelspec": {
   "display_name": "Python 3",
   "language": "python",
   "name": "python3"
  },
  "language_info": {
   "codemirror_mode": {
    "name": "ipython",
    "version": 3
   },
   "file_extension": ".py",
   "mimetype": "text/x-python",
   "name": "python",
   "nbconvert_exporter": "python",
   "pygments_lexer": "ipython3",
   "version": "3.7.3"
  }
 },
 "nbformat": 4,
 "nbformat_minor": 2
}
